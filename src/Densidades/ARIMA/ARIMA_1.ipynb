{
 "cells": [
  {
   "cell_type": "code",
   "execution_count": 17,
   "metadata": {},
   "outputs": [],
   "source": [
    "import pandas as pd\n",
    "import warnings\n",
    "import rpy2\n",
    "warnings.filterwarnings('ignore')"
   ]
  },
  {
   "cell_type": "code",
   "execution_count": 18,
   "metadata": {},
   "outputs": [
    {
     "name": "stdout",
     "output_type": "stream",
     "text": [
      "The rpy2.ipython extension is already loaded. To reload it, use:\n",
      "  %reload_ext rpy2.ipython\n"
     ]
    }
   ],
   "source": [
    "%load_ext rpy2.ipython"
   ]
  },
  {
   "cell_type": "markdown",
   "metadata": {},
   "source": [
    "# Prueba Completa"
   ]
  },
  {
   "cell_type": "code",
   "execution_count": 19,
   "metadata": {},
   "outputs": [],
   "source": [
    "import plotly.graph_objects as go\n",
    "\n",
    "def plot_(title, *series):\n",
    "    # Crear una figura\n",
    "    fig = go.Figure()\n",
    "\n",
    "    # Agregar cada serie de datos al gráfico\n",
    "    for x_variable, y_variable, label in series:\n",
    "        fig.add_trace(go.Scatter(\n",
    "            x=x_variable,\n",
    "            y=y_variable,\n",
    "            mode='lines',\n",
    "            name=label,\n",
    "            line=dict(width=2)\n",
    "        ))\n",
    "\n",
    "    # Actualizar el tipo de eje x a 'date'\n",
    "    fig.update_xaxes(type='date')\n",
    "\n",
    "    # Ajustar el título para que esté centrado\n",
    "    fig.update_layout(title_text=title, title_x=0.5)\n",
    "\n",
    "    # Personalizar el selector de rango de fechas\n",
    "    fig.update_layout(\n",
    "        xaxis=dict(\n",
    "            rangeselector=dict(\n",
    "                buttons=list([\n",
    "                    dict(count=1,\n",
    "                         label=\"1d\",\n",
    "                         step=\"day\",\n",
    "                         stepmode=\"backward\"),\n",
    "                    dict(count=7,\n",
    "                         label=\"1w\",\n",
    "                         step=\"day\",\n",
    "                         stepmode=\"backward\"),\n",
    "                    dict(count=1,\n",
    "                         label=\"1m\",\n",
    "                         step=\"month\",\n",
    "                         stepmode=\"backward\"),\n",
    "                    dict(count=3,\n",
    "                         label=\"3m\",\n",
    "                         step=\"month\",\n",
    "                         stepmode=\"backward\"),\n",
    "                    dict(count=6,\n",
    "                         label=\"6m\",\n",
    "                         step=\"month\",\n",
    "                         stepmode=\"backward\"),\n",
    "                    dict(count=1,\n",
    "                         label=\"1y\",\n",
    "                         step=\"year\",\n",
    "                         stepmode=\"backward\"),\n",
    "                    dict(count=2,\n",
    "                         label=\"2y\",\n",
    "                         step=\"year\",\n",
    "                         stepmode=\"backward\"),\n",
    "                    dict(count=3,\n",
    "                         label=\"3y\",\n",
    "                         step=\"year\",\n",
    "                         stepmode=\"backward\"),\n",
    "                    dict(count=5,\n",
    "                         label=\"5y\",\n",
    "                         step=\"year\",\n",
    "                         stepmode=\"backward\"),\n",
    "                    dict(count=10,\n",
    "                         label=\"10y\",\n",
    "                         step=\"year\",\n",
    "                         stepmode=\"backward\"),\n",
    "                    dict(count=20,\n",
    "                         label=\"20y\",\n",
    "                         step=\"year\",\n",
    "                         stepmode=\"backward\"),\n",
    "                    dict(count=30,\n",
    "                         label=\"30y\",\n",
    "                         step=\"year\",\n",
    "                         stepmode=\"backward\"),\n",
    "                    dict(count=50,\n",
    "                         label=\"50y\",\n",
    "                         step=\"year\",\n",
    "                         stepmode=\"backward\"),\n",
    "                    dict(step=\"all\")\n",
    "                ])\n",
    "            ),\n",
    "            rangeslider=dict(\n",
    "                visible=True\n",
    "            ),\n",
    "            type=\"date\"\n",
    "        ),\n",
    "        yaxis=dict(\n",
    "            autorange=True,\n",
    "            type=\"linear\"\n",
    "        )\n",
    "    )\n",
    "\n",
    "    # Personalizar los títulos de los ejes\n",
    "    fig.update_layout(\n",
    "        xaxis_title=\"Tiempo\",\n",
    "        yaxis_title=\"Indice de producción\"\n",
    "    )\n",
    "\n",
    "    # Personalizar la leyenda\n",
    "    fig.update_layout(\n",
    "        legend=dict(\n",
    "            orientation=\"v\",\n",
    "            yanchor=\"top\",\n",
    "            y=1,\n",
    "            xanchor=\"left\",\n",
    "            x=-.35\n",
    "        )\n",
    "    )\n",
    "\n",
    "    # Mostrar el gráfico\n",
    "    fig.show()\n"
   ]
  },
  {
   "cell_type": "code",
   "execution_count": 24,
   "metadata": {},
   "outputs": [
    {
     "data": {
      "application/vnd.plotly.v1+json": {
       "config": {
        "plotlyServerURL": "https://plot.ly"
       },
       "data": [
        {
         "line": {
          "width": 2
         },
         "mode": "lines",
         "name": "Train",
         "type": "scatter",
         "x": [
          "2010-01-01T00:00:00",
          "2010-02-01T00:00:00",
          "2010-03-01T00:00:00",
          "2010-04-01T00:00:00",
          "2010-05-01T00:00:00",
          "2010-06-01T00:00:00",
          "2010-07-01T00:00:00",
          "2010-08-01T00:00:00",
          "2010-09-01T00:00:00",
          "2010-10-01T00:00:00",
          "2010-11-01T00:00:00",
          "2010-12-01T00:00:00",
          "2011-01-01T00:00:00",
          "2011-02-01T00:00:00",
          "2011-03-01T00:00:00",
          "2011-04-01T00:00:00",
          "2011-05-01T00:00:00",
          "2011-06-01T00:00:00",
          "2011-07-01T00:00:00",
          "2011-08-01T00:00:00",
          "2011-09-01T00:00:00",
          "2011-10-01T00:00:00",
          "2011-11-01T00:00:00",
          "2011-12-01T00:00:00",
          "2012-01-01T00:00:00",
          "2012-02-01T00:00:00",
          "2012-03-01T00:00:00",
          "2012-04-01T00:00:00",
          "2012-05-01T00:00:00",
          "2012-06-01T00:00:00",
          "2012-07-01T00:00:00",
          "2012-08-01T00:00:00",
          "2012-09-01T00:00:00",
          "2012-10-01T00:00:00",
          "2012-11-01T00:00:00",
          "2012-12-01T00:00:00",
          "2013-01-01T00:00:00",
          "2013-02-01T00:00:00",
          "2013-03-01T00:00:00",
          "2013-04-01T00:00:00",
          "2013-05-01T00:00:00",
          "2013-06-01T00:00:00",
          "2013-07-01T00:00:00",
          "2013-08-01T00:00:00",
          "2013-09-01T00:00:00",
          "2013-10-01T00:00:00",
          "2013-11-01T00:00:00",
          "2013-12-01T00:00:00",
          "2014-01-01T00:00:00",
          "2014-02-01T00:00:00",
          "2014-03-01T00:00:00",
          "2014-04-01T00:00:00",
          "2014-05-01T00:00:00",
          "2014-06-01T00:00:00",
          "2014-07-01T00:00:00",
          "2014-08-01T00:00:00",
          "2014-09-01T00:00:00",
          "2014-10-01T00:00:00",
          "2014-11-01T00:00:00",
          "2014-12-01T00:00:00",
          "2015-01-01T00:00:00",
          "2015-02-01T00:00:00",
          "2015-03-01T00:00:00",
          "2015-04-01T00:00:00",
          "2015-05-01T00:00:00",
          "2015-06-01T00:00:00",
          "2015-07-01T00:00:00",
          "2015-08-01T00:00:00",
          "2015-09-01T00:00:00",
          "2015-10-01T00:00:00",
          "2015-11-01T00:00:00",
          "2015-12-01T00:00:00",
          "2016-01-01T00:00:00",
          "2016-02-01T00:00:00",
          "2016-03-01T00:00:00",
          "2016-04-01T00:00:00",
          "2016-05-01T00:00:00",
          "2016-06-01T00:00:00",
          "2016-07-01T00:00:00",
          "2016-08-01T00:00:00",
          "2016-09-01T00:00:00",
          "2016-10-01T00:00:00",
          "2016-11-01T00:00:00",
          "2016-12-01T00:00:00",
          "2017-01-01T00:00:00",
          "2017-02-01T00:00:00",
          "2017-03-01T00:00:00",
          "2017-04-01T00:00:00",
          "2017-05-01T00:00:00",
          "2017-06-01T00:00:00",
          "2017-07-01T00:00:00",
          "2017-08-01T00:00:00",
          "2017-09-01T00:00:00",
          "2017-10-01T00:00:00",
          "2017-11-01T00:00:00",
          "2017-12-01T00:00:00",
          "2018-01-01T00:00:00",
          "2018-02-01T00:00:00",
          "2018-03-01T00:00:00",
          "2018-04-01T00:00:00",
          "2018-05-01T00:00:00",
          "2018-06-01T00:00:00",
          "2018-07-01T00:00:00",
          "2018-08-01T00:00:00",
          "2018-09-01T00:00:00",
          "2018-10-01T00:00:00",
          "2018-11-01T00:00:00",
          "2018-12-01T00:00:00"
         ],
         "y": [
          117.4737,
          109.106,
          96.8805,
          84.9776,
          89.4931,
          102.9199,
          111.4497,
          111.5623,
          98.8352,
          87.7291,
          91.4364,
          112.8056,
          117.9343,
          105.867,
          97.6831,
          88.0082,
          88.7352,
          101.3837,
          113.2128,
          112.0655,
          98.0976,
          88.9858,
          92.3775,
          105.7794,
          110.2292,
          101.8597,
          92.0263,
          86.151,
          91.3542,
          99.6795,
          111.6088,
          108.4356,
          95.393,
          88.8972,
          92.8549,
          103.5323,
          113.6169,
          104.9588,
          101.2068,
          89.2832,
          89.3331,
          99.1089,
          108.6244,
          106.7201,
          97.7893,
          90.2661,
          95.5682,
          111.7132,
          122.2478,
          111.0635,
          102.9009,
          88.4617,
          90.4627,
          100.077,
          106.9483,
          106.7093,
          98.875,
          90.7419,
          97.6889,
          107.4269,
          118.2529,
          114.5312,
          102.5268,
          87.8375,
          89.3232,
          101.3074,
          110.2382,
          109.0314,
          100.2091,
          89.5857,
          90.8253,
          100.7941,
          115.1679,
          104.3868,
          92.8194,
          86.8332,
          88.1173,
          101.858,
          112.473,
          113.7736,
          100.7214,
          89.5034,
          91.2201,
          112.2975,
          114.8134,
          98.2094,
          99.6332,
          85.9072,
          89.2037,
          99.1942,
          109.8524,
          106.3908,
          95.8099,
          90.8123,
          95.7453,
          114.4282,
          126.3772,
          106.1898,
          103.1246,
          92.4309,
          93.0783,
          103.2585,
          113.0918,
          113.0433,
          101.4001,
          94.482,
          101.3712,
          110.5681
         ]
        },
        {
         "line": {
          "width": 2
         },
         "mode": "lines",
         "name": "Test",
         "type": "scatter",
         "x": [
          "2019-01-01T00:00:00",
          "2019-02-01T00:00:00",
          "2019-03-01T00:00:00",
          "2019-04-01T00:00:00",
          "2019-05-01T00:00:00",
          "2019-06-01T00:00:00",
          "2019-07-01T00:00:00",
          "2019-08-01T00:00:00",
          "2019-09-01T00:00:00",
          "2019-10-01T00:00:00",
          "2019-11-01T00:00:00",
          "2019-12-01T00:00:00",
          "2020-01-01T00:00:00"
         ],
         "y": [
          120.0502,
          109.9554,
          104.4465,
          88.2558,
          92.623,
          99.6883,
          113.9186,
          112.3547,
          103.1333,
          93.8206,
          99.9782,
          109.9263,
          112.9689
         ]
        }
       ],
       "layout": {
        "legend": {
         "orientation": "v",
         "x": -0.35,
         "xanchor": "left",
         "y": 1,
         "yanchor": "top"
        },
        "template": {
         "data": {
          "bar": [
           {
            "error_x": {
             "color": "#2a3f5f"
            },
            "error_y": {
             "color": "#2a3f5f"
            },
            "marker": {
             "line": {
              "color": "#E5ECF6",
              "width": 0.5
             },
             "pattern": {
              "fillmode": "overlay",
              "size": 10,
              "solidity": 0.2
             }
            },
            "type": "bar"
           }
          ],
          "barpolar": [
           {
            "marker": {
             "line": {
              "color": "#E5ECF6",
              "width": 0.5
             },
             "pattern": {
              "fillmode": "overlay",
              "size": 10,
              "solidity": 0.2
             }
            },
            "type": "barpolar"
           }
          ],
          "carpet": [
           {
            "aaxis": {
             "endlinecolor": "#2a3f5f",
             "gridcolor": "white",
             "linecolor": "white",
             "minorgridcolor": "white",
             "startlinecolor": "#2a3f5f"
            },
            "baxis": {
             "endlinecolor": "#2a3f5f",
             "gridcolor": "white",
             "linecolor": "white",
             "minorgridcolor": "white",
             "startlinecolor": "#2a3f5f"
            },
            "type": "carpet"
           }
          ],
          "choropleth": [
           {
            "colorbar": {
             "outlinewidth": 0,
             "ticks": ""
            },
            "type": "choropleth"
           }
          ],
          "contour": [
           {
            "colorbar": {
             "outlinewidth": 0,
             "ticks": ""
            },
            "colorscale": [
             [
              0,
              "#0d0887"
             ],
             [
              0.1111111111111111,
              "#46039f"
             ],
             [
              0.2222222222222222,
              "#7201a8"
             ],
             [
              0.3333333333333333,
              "#9c179e"
             ],
             [
              0.4444444444444444,
              "#bd3786"
             ],
             [
              0.5555555555555556,
              "#d8576b"
             ],
             [
              0.6666666666666666,
              "#ed7953"
             ],
             [
              0.7777777777777778,
              "#fb9f3a"
             ],
             [
              0.8888888888888888,
              "#fdca26"
             ],
             [
              1,
              "#f0f921"
             ]
            ],
            "type": "contour"
           }
          ],
          "contourcarpet": [
           {
            "colorbar": {
             "outlinewidth": 0,
             "ticks": ""
            },
            "type": "contourcarpet"
           }
          ],
          "heatmap": [
           {
            "colorbar": {
             "outlinewidth": 0,
             "ticks": ""
            },
            "colorscale": [
             [
              0,
              "#0d0887"
             ],
             [
              0.1111111111111111,
              "#46039f"
             ],
             [
              0.2222222222222222,
              "#7201a8"
             ],
             [
              0.3333333333333333,
              "#9c179e"
             ],
             [
              0.4444444444444444,
              "#bd3786"
             ],
             [
              0.5555555555555556,
              "#d8576b"
             ],
             [
              0.6666666666666666,
              "#ed7953"
             ],
             [
              0.7777777777777778,
              "#fb9f3a"
             ],
             [
              0.8888888888888888,
              "#fdca26"
             ],
             [
              1,
              "#f0f921"
             ]
            ],
            "type": "heatmap"
           }
          ],
          "heatmapgl": [
           {
            "colorbar": {
             "outlinewidth": 0,
             "ticks": ""
            },
            "colorscale": [
             [
              0,
              "#0d0887"
             ],
             [
              0.1111111111111111,
              "#46039f"
             ],
             [
              0.2222222222222222,
              "#7201a8"
             ],
             [
              0.3333333333333333,
              "#9c179e"
             ],
             [
              0.4444444444444444,
              "#bd3786"
             ],
             [
              0.5555555555555556,
              "#d8576b"
             ],
             [
              0.6666666666666666,
              "#ed7953"
             ],
             [
              0.7777777777777778,
              "#fb9f3a"
             ],
             [
              0.8888888888888888,
              "#fdca26"
             ],
             [
              1,
              "#f0f921"
             ]
            ],
            "type": "heatmapgl"
           }
          ],
          "histogram": [
           {
            "marker": {
             "pattern": {
              "fillmode": "overlay",
              "size": 10,
              "solidity": 0.2
             }
            },
            "type": "histogram"
           }
          ],
          "histogram2d": [
           {
            "colorbar": {
             "outlinewidth": 0,
             "ticks": ""
            },
            "colorscale": [
             [
              0,
              "#0d0887"
             ],
             [
              0.1111111111111111,
              "#46039f"
             ],
             [
              0.2222222222222222,
              "#7201a8"
             ],
             [
              0.3333333333333333,
              "#9c179e"
             ],
             [
              0.4444444444444444,
              "#bd3786"
             ],
             [
              0.5555555555555556,
              "#d8576b"
             ],
             [
              0.6666666666666666,
              "#ed7953"
             ],
             [
              0.7777777777777778,
              "#fb9f3a"
             ],
             [
              0.8888888888888888,
              "#fdca26"
             ],
             [
              1,
              "#f0f921"
             ]
            ],
            "type": "histogram2d"
           }
          ],
          "histogram2dcontour": [
           {
            "colorbar": {
             "outlinewidth": 0,
             "ticks": ""
            },
            "colorscale": [
             [
              0,
              "#0d0887"
             ],
             [
              0.1111111111111111,
              "#46039f"
             ],
             [
              0.2222222222222222,
              "#7201a8"
             ],
             [
              0.3333333333333333,
              "#9c179e"
             ],
             [
              0.4444444444444444,
              "#bd3786"
             ],
             [
              0.5555555555555556,
              "#d8576b"
             ],
             [
              0.6666666666666666,
              "#ed7953"
             ],
             [
              0.7777777777777778,
              "#fb9f3a"
             ],
             [
              0.8888888888888888,
              "#fdca26"
             ],
             [
              1,
              "#f0f921"
             ]
            ],
            "type": "histogram2dcontour"
           }
          ],
          "mesh3d": [
           {
            "colorbar": {
             "outlinewidth": 0,
             "ticks": ""
            },
            "type": "mesh3d"
           }
          ],
          "parcoords": [
           {
            "line": {
             "colorbar": {
              "outlinewidth": 0,
              "ticks": ""
             }
            },
            "type": "parcoords"
           }
          ],
          "pie": [
           {
            "automargin": true,
            "type": "pie"
           }
          ],
          "scatter": [
           {
            "fillpattern": {
             "fillmode": "overlay",
             "size": 10,
             "solidity": 0.2
            },
            "type": "scatter"
           }
          ],
          "scatter3d": [
           {
            "line": {
             "colorbar": {
              "outlinewidth": 0,
              "ticks": ""
             }
            },
            "marker": {
             "colorbar": {
              "outlinewidth": 0,
              "ticks": ""
             }
            },
            "type": "scatter3d"
           }
          ],
          "scattercarpet": [
           {
            "marker": {
             "colorbar": {
              "outlinewidth": 0,
              "ticks": ""
             }
            },
            "type": "scattercarpet"
           }
          ],
          "scattergeo": [
           {
            "marker": {
             "colorbar": {
              "outlinewidth": 0,
              "ticks": ""
             }
            },
            "type": "scattergeo"
           }
          ],
          "scattergl": [
           {
            "marker": {
             "colorbar": {
              "outlinewidth": 0,
              "ticks": ""
             }
            },
            "type": "scattergl"
           }
          ],
          "scattermapbox": [
           {
            "marker": {
             "colorbar": {
              "outlinewidth": 0,
              "ticks": ""
             }
            },
            "type": "scattermapbox"
           }
          ],
          "scatterpolar": [
           {
            "marker": {
             "colorbar": {
              "outlinewidth": 0,
              "ticks": ""
             }
            },
            "type": "scatterpolar"
           }
          ],
          "scatterpolargl": [
           {
            "marker": {
             "colorbar": {
              "outlinewidth": 0,
              "ticks": ""
             }
            },
            "type": "scatterpolargl"
           }
          ],
          "scatterternary": [
           {
            "marker": {
             "colorbar": {
              "outlinewidth": 0,
              "ticks": ""
             }
            },
            "type": "scatterternary"
           }
          ],
          "surface": [
           {
            "colorbar": {
             "outlinewidth": 0,
             "ticks": ""
            },
            "colorscale": [
             [
              0,
              "#0d0887"
             ],
             [
              0.1111111111111111,
              "#46039f"
             ],
             [
              0.2222222222222222,
              "#7201a8"
             ],
             [
              0.3333333333333333,
              "#9c179e"
             ],
             [
              0.4444444444444444,
              "#bd3786"
             ],
             [
              0.5555555555555556,
              "#d8576b"
             ],
             [
              0.6666666666666666,
              "#ed7953"
             ],
             [
              0.7777777777777778,
              "#fb9f3a"
             ],
             [
              0.8888888888888888,
              "#fdca26"
             ],
             [
              1,
              "#f0f921"
             ]
            ],
            "type": "surface"
           }
          ],
          "table": [
           {
            "cells": {
             "fill": {
              "color": "#EBF0F8"
             },
             "line": {
              "color": "white"
             }
            },
            "header": {
             "fill": {
              "color": "#C8D4E3"
             },
             "line": {
              "color": "white"
             }
            },
            "type": "table"
           }
          ]
         },
         "layout": {
          "annotationdefaults": {
           "arrowcolor": "#2a3f5f",
           "arrowhead": 0,
           "arrowwidth": 1
          },
          "autotypenumbers": "strict",
          "coloraxis": {
           "colorbar": {
            "outlinewidth": 0,
            "ticks": ""
           }
          },
          "colorscale": {
           "diverging": [
            [
             0,
             "#8e0152"
            ],
            [
             0.1,
             "#c51b7d"
            ],
            [
             0.2,
             "#de77ae"
            ],
            [
             0.3,
             "#f1b6da"
            ],
            [
             0.4,
             "#fde0ef"
            ],
            [
             0.5,
             "#f7f7f7"
            ],
            [
             0.6,
             "#e6f5d0"
            ],
            [
             0.7,
             "#b8e186"
            ],
            [
             0.8,
             "#7fbc41"
            ],
            [
             0.9,
             "#4d9221"
            ],
            [
             1,
             "#276419"
            ]
           ],
           "sequential": [
            [
             0,
             "#0d0887"
            ],
            [
             0.1111111111111111,
             "#46039f"
            ],
            [
             0.2222222222222222,
             "#7201a8"
            ],
            [
             0.3333333333333333,
             "#9c179e"
            ],
            [
             0.4444444444444444,
             "#bd3786"
            ],
            [
             0.5555555555555556,
             "#d8576b"
            ],
            [
             0.6666666666666666,
             "#ed7953"
            ],
            [
             0.7777777777777778,
             "#fb9f3a"
            ],
            [
             0.8888888888888888,
             "#fdca26"
            ],
            [
             1,
             "#f0f921"
            ]
           ],
           "sequentialminus": [
            [
             0,
             "#0d0887"
            ],
            [
             0.1111111111111111,
             "#46039f"
            ],
            [
             0.2222222222222222,
             "#7201a8"
            ],
            [
             0.3333333333333333,
             "#9c179e"
            ],
            [
             0.4444444444444444,
             "#bd3786"
            ],
            [
             0.5555555555555556,
             "#d8576b"
            ],
            [
             0.6666666666666666,
             "#ed7953"
            ],
            [
             0.7777777777777778,
             "#fb9f3a"
            ],
            [
             0.8888888888888888,
             "#fdca26"
            ],
            [
             1,
             "#f0f921"
            ]
           ]
          },
          "colorway": [
           "#636efa",
           "#EF553B",
           "#00cc96",
           "#ab63fa",
           "#FFA15A",
           "#19d3f3",
           "#FF6692",
           "#B6E880",
           "#FF97FF",
           "#FECB52"
          ],
          "font": {
           "color": "#2a3f5f"
          },
          "geo": {
           "bgcolor": "white",
           "lakecolor": "white",
           "landcolor": "#E5ECF6",
           "showlakes": true,
           "showland": true,
           "subunitcolor": "white"
          },
          "hoverlabel": {
           "align": "left"
          },
          "hovermode": "closest",
          "mapbox": {
           "style": "light"
          },
          "paper_bgcolor": "white",
          "plot_bgcolor": "#E5ECF6",
          "polar": {
           "angularaxis": {
            "gridcolor": "white",
            "linecolor": "white",
            "ticks": ""
           },
           "bgcolor": "#E5ECF6",
           "radialaxis": {
            "gridcolor": "white",
            "linecolor": "white",
            "ticks": ""
           }
          },
          "scene": {
           "xaxis": {
            "backgroundcolor": "#E5ECF6",
            "gridcolor": "white",
            "gridwidth": 2,
            "linecolor": "white",
            "showbackground": true,
            "ticks": "",
            "zerolinecolor": "white"
           },
           "yaxis": {
            "backgroundcolor": "#E5ECF6",
            "gridcolor": "white",
            "gridwidth": 2,
            "linecolor": "white",
            "showbackground": true,
            "ticks": "",
            "zerolinecolor": "white"
           },
           "zaxis": {
            "backgroundcolor": "#E5ECF6",
            "gridcolor": "white",
            "gridwidth": 2,
            "linecolor": "white",
            "showbackground": true,
            "ticks": "",
            "zerolinecolor": "white"
           }
          },
          "shapedefaults": {
           "line": {
            "color": "#2a3f5f"
           }
          },
          "ternary": {
           "aaxis": {
            "gridcolor": "white",
            "linecolor": "white",
            "ticks": ""
           },
           "baxis": {
            "gridcolor": "white",
            "linecolor": "white",
            "ticks": ""
           },
           "bgcolor": "#E5ECF6",
           "caxis": {
            "gridcolor": "white",
            "linecolor": "white",
            "ticks": ""
           }
          },
          "title": {
           "x": 0.05
          },
          "xaxis": {
           "automargin": true,
           "gridcolor": "white",
           "linecolor": "white",
           "ticks": "",
           "title": {
            "standoff": 15
           },
           "zerolinecolor": "white",
           "zerolinewidth": 2
          },
          "yaxis": {
           "automargin": true,
           "gridcolor": "white",
           "linecolor": "white",
           "ticks": "",
           "title": {
            "standoff": 15
           },
           "zerolinecolor": "white",
           "zerolinewidth": 2
          }
         }
        },
        "title": {
         "text": "IPG2211A2N",
         "x": 0.5
        },
        "xaxis": {
         "rangeselector": {
          "buttons": [
           {
            "count": 1,
            "label": "1d",
            "step": "day",
            "stepmode": "backward"
           },
           {
            "count": 7,
            "label": "1w",
            "step": "day",
            "stepmode": "backward"
           },
           {
            "count": 1,
            "label": "1m",
            "step": "month",
            "stepmode": "backward"
           },
           {
            "count": 3,
            "label": "3m",
            "step": "month",
            "stepmode": "backward"
           },
           {
            "count": 6,
            "label": "6m",
            "step": "month",
            "stepmode": "backward"
           },
           {
            "count": 1,
            "label": "1y",
            "step": "year",
            "stepmode": "backward"
           },
           {
            "count": 2,
            "label": "2y",
            "step": "year",
            "stepmode": "backward"
           },
           {
            "count": 3,
            "label": "3y",
            "step": "year",
            "stepmode": "backward"
           },
           {
            "count": 5,
            "label": "5y",
            "step": "year",
            "stepmode": "backward"
           },
           {
            "count": 10,
            "label": "10y",
            "step": "year",
            "stepmode": "backward"
           },
           {
            "count": 20,
            "label": "20y",
            "step": "year",
            "stepmode": "backward"
           },
           {
            "count": 30,
            "label": "30y",
            "step": "year",
            "stepmode": "backward"
           },
           {
            "count": 50,
            "label": "50y",
            "step": "year",
            "stepmode": "backward"
           },
           {
            "step": "all"
           }
          ]
         },
         "rangeslider": {
          "visible": true
         },
         "title": {
          "text": "Tiempo"
         },
         "type": "date"
        },
        "yaxis": {
         "autorange": true,
         "title": {
          "text": "Indice de producción"
         },
         "type": "linear"
        }
       }
      }
     },
     "metadata": {},
     "output_type": "display_data"
    },
    {
     "name": "stderr",
     "output_type": "stream",
     "text": [
      "Rolling Forecast: 100%|██████████| 13/13 [00:03<00:00,  3.50it/s]\n"
     ]
    },
    {
     "data": {
      "image/png": "[encoded data removed]",
      "text/plain": [
       "<Figure size 1200x800 with 13 Axes>"
      ]
     },
     "metadata": {},
     "output_type": "display_data"
    },
    {
     "data": {
      "image/png": "[encoded data removed]",
      "text/plain": [
       "<Figure size 1500x800 with 1 Axes>"
      ]
     },
     "metadata": {},
     "output_type": "display_data"
    }
   ],
   "source": [
    "import pandas as pd\n",
    "import numpy as np\n",
    "from statsmodels.tsa.arima.model import ARIMA\n",
    "import matplotlib.pyplot as plt\n",
    "import seaborn as sns\n",
    "import warnings\n",
    "from typing import Optional, Any\n",
    "from tqdm import tqdm\n",
    "\n",
    "warnings.filterwarnings('ignore')\n",
    "\n",
    "def fit_arima_model(train_data):\n",
    "    model = ARIMA(train_data, order=(2, 0, 2),freq='MS')  # You can adjust the order as needed\n",
    "    return model.fit()\n",
    "\n",
    "def predict_bootstrapping(model, train_data, steps=1, n_boot=500, random_state=123):\n",
    "    predictions = model.forecast(steps=steps)\n",
    "    residuals = model.resid\n",
    "    \n",
    "    boot_predictions = np.full((steps, n_boot), np.nan)\n",
    "    rng = np.random.default_rng(seed=random_state)\n",
    "    \n",
    "    for i in range(n_boot):\n",
    "        sample_residuals = rng.choice(residuals, size=steps, replace=True)\n",
    "        boot_predictions[:, i] = predictions + sample_residuals\n",
    "    \n",
    "    return pd.DataFrame(boot_predictions, columns=[f\"pred_boot_{i}\" for i in range(n_boot)],\n",
    "                        index=pd.date_range(start=train_data.index[-1] + pd.Timedelta(days=1), periods=steps, freq='MS'))\n",
    "\n",
    "def rolling_forecast_with_bootstrapping(train, test, window_size=24, n_boot=500):\n",
    "    all_bootstrap_predictions = []\n",
    "    \n",
    "    for i in tqdm(range(len(test)), desc=\"Rolling Forecast\"):\n",
    "        train_window = pd.concat([train, test.iloc[:i]])\n",
    "        model = fit_arima_model(train_window.iloc[-window_size:])\n",
    "        bootstrap_predictions = predict_bootstrapping(model, train_window.iloc[-window_size:], steps=1, n_boot=n_boot)\n",
    "        all_bootstrap_predictions.append(bootstrap_predictions)\n",
    "    \n",
    "    return pd.concat(all_bootstrap_predictions)\n",
    "\n",
    "def plot_prediction_distribution(bootstrapping_predictions: pd.DataFrame,\n",
    "                                 bw_method: Optional[Any] = None,\n",
    "                                 **fig_kw) -> plt.Figure:\n",
    "    index = bootstrapping_predictions.index.astype(str).to_list()[::-1]\n",
    "    palette = sns.cubehelix_palette(len(index), rot=-.25, light=.7, reverse=False)\n",
    "    fig, axs = plt.subplots(len(index), 1, sharex=True, **fig_kw)\n",
    "    if not isinstance(axs, np.ndarray):\n",
    "        axs = np.array([axs])\n",
    "\n",
    "    for i, step in enumerate(index):\n",
    "        plot = (\n",
    "            bootstrapping_predictions.loc[step, :]\n",
    "            .plot.kde(ax=axs[i], bw_method=bw_method, lw=0.5)\n",
    "        )\n",
    "        x = plot.get_children()[0]._x\n",
    "        y = plot.get_children()[0]._y\n",
    "        axs[i].fill_between(x, y, color=palette[i])\n",
    "        \n",
    "        prediction_mean = bootstrapping_predictions.loc[step, :].mean()\n",
    "        idx = np.abs(x - prediction_mean).argmin()\n",
    "        axs[i].vlines(x[idx], ymin=0, ymax=y[idx], linestyle=\"dashed\", color='w')\n",
    "        \n",
    "        axs[i].spines['top'].set_visible(False)\n",
    "        axs[i].spines['right'].set_visible(False)\n",
    "        axs[i].spines['bottom'].set_visible(False)\n",
    "        axs[i].spines['left'].set_visible(False)\n",
    "        axs[i].set_yticklabels([])\n",
    "        axs[i].set_yticks([])\n",
    "        axs[i].set_ylabel(step, rotation='horizontal')\n",
    "        axs[i].set_xlabel('prediction')\n",
    "\n",
    "    fig.subplots_adjust(hspace=-0)\n",
    "    fig.suptitle('Forecasting distribution per step')\n",
    "    return fig\n",
    "\n",
    "def plot_forecast_with_pi(train, test, forecasts, lower_pi, upper_pi):\n",
    "    plt.figure(figsize=(15, 8))\n",
    "    plt.plot(train.index, train, label='Train', alpha=0.7)\n",
    "    plt.plot(test.index, test, label='Test', alpha=0.7)\n",
    "    plt.plot(forecasts.index, forecasts, label='Forecast', color='red')\n",
    "    plt.fill_between(forecasts.index, lower_pi, upper_pi, color='red', alpha=0.2, label='95% PI')\n",
    "    plt.title('ARIMA Rolling Forecast with Prediction Intervals')\n",
    "    plt.legend()\n",
    "    plt.show()\n",
    "\n",
    "# Load and prepare the data\n",
    "data = pd.read_csv('../../../data/IPG2211A2N_1.csv')\n",
    "data['DATE'] = pd.to_datetime(data['DATE'])\n",
    "data.set_index('DATE', inplace=True)\n",
    "data['IPG2211A2N'] = pd.to_numeric(data['IPG2211A2N'], errors='coerce')\n",
    "data.dropna(inplace=True)\n",
    "\n",
    "train = data[data.index.year < 2019]\n",
    "test = data[data.index.year >= 2019]\n",
    "\n",
    "plot_('IPG2211A2N', (train.index, train['IPG2211A2N'], 'Train'), (test.index, test['IPG2211A2N'], 'Test'))\n",
    "\n",
    "# Perform rolling forecast with bootstrapping\n",
    "bootstrap_predictions = rolling_forecast_with_bootstrapping(train['IPG2211A2N'], test['IPG2211A2N'], window_size=24, n_boot=100)\n",
    "\n",
    "# Plot the prediction distributions\n",
    "fig = plot_prediction_distribution(bootstrap_predictions, figsize=(12, 8))\n",
    "plt.tight_layout()\n",
    "plt.show()\n",
    "\n",
    "# Calculate forecasts and prediction intervals\n",
    "forecasts = bootstrap_predictions.mean(axis=1)\n",
    "lower_pi = bootstrap_predictions.quantile(0.025, axis=1)\n",
    "upper_pi = bootstrap_predictions.quantile(0.975, axis=1)\n",
    "\n",
    "# Plot the forecast with prediction intervals\n",
    "plot_forecast_with_pi(train['IPG2211A2N'], test['IPG2211A2N'], forecasts, lower_pi, upper_pi)"
   ]
  },
  {
   "cell_type": "code",
   "execution_count": 25,
   "metadata": {},
   "outputs": [
    {
     "data": {
      "text/html": [
       "<div>\n",
       "<style scoped>\n",
       "    .dataframe tbody tr th:only-of-type {\n",
       "        vertical-align: middle;\n",
       "    }\n",
       "\n",
       "    .dataframe tbody tr th {\n",
       "        vertical-align: top;\n",
       "    }\n",
       "\n",
       "    .dataframe thead th {\n",
       "        text-align: right;\n",
       "    }\n",
       "</style>\n",
       "<table border=\"1\" class=\"dataframe\">\n",
       "  <thead>\n",
       "    <tr style=\"text-align: right;\">\n",
       "      <th></th>\n",
       "      <th>pred_boot_0</th>\n",
       "      <th>pred_boot_1</th>\n",
       "      <th>pred_boot_2</th>\n",
       "      <th>pred_boot_3</th>\n",
       "      <th>pred_boot_4</th>\n",
       "      <th>pred_boot_5</th>\n",
       "      <th>pred_boot_6</th>\n",
       "      <th>pred_boot_7</th>\n",
       "      <th>pred_boot_8</th>\n",
       "      <th>pred_boot_9</th>\n",
       "      <th>...</th>\n",
       "      <th>pred_boot_90</th>\n",
       "      <th>pred_boot_91</th>\n",
       "      <th>pred_boot_92</th>\n",
       "      <th>pred_boot_93</th>\n",
       "      <th>pred_boot_94</th>\n",
       "      <th>pred_boot_95</th>\n",
       "      <th>pred_boot_96</th>\n",
       "      <th>pred_boot_97</th>\n",
       "      <th>pred_boot_98</th>\n",
       "      <th>pred_boot_99</th>\n",
       "    </tr>\n",
       "  </thead>\n",
       "  <tbody>\n",
       "    <tr>\n",
       "      <th>2019-01-01</th>\n",
       "      <td>125.649400</td>\n",
       "      <td>111.475889</td>\n",
       "      <td>118.496485</td>\n",
       "      <td>104.085531</td>\n",
       "      <td>114.977111</td>\n",
       "      <td>107.480574</td>\n",
       "      <td>113.421392</td>\n",
       "      <td>103.324487</td>\n",
       "      <td>108.618393</td>\n",
       "      <td>103.324487</td>\n",
       "      <td>...</td>\n",
       "      <td>111.475889</td>\n",
       "      <td>111.197176</td>\n",
       "      <td>113.011322</td>\n",
       "      <td>125.649400</td>\n",
       "      <td>109.717660</td>\n",
       "      <td>125.649400</td>\n",
       "      <td>108.618393</td>\n",
       "      <td>122.500543</td>\n",
       "      <td>111.475889</td>\n",
       "      <td>122.500543</td>\n",
       "    </tr>\n",
       "    <tr>\n",
       "      <th>2019-02-01</th>\n",
       "      <td>105.753092</td>\n",
       "      <td>106.847620</td>\n",
       "      <td>112.770249</td>\n",
       "      <td>108.959708</td>\n",
       "      <td>115.318066</td>\n",
       "      <td>111.530556</td>\n",
       "      <td>107.324090</td>\n",
       "      <td>105.778761</td>\n",
       "      <td>106.644362</td>\n",
       "      <td>105.778761</td>\n",
       "      <td>...</td>\n",
       "      <td>106.847620</td>\n",
       "      <td>103.918619</td>\n",
       "      <td>120.082762</td>\n",
       "      <td>105.753092</td>\n",
       "      <td>109.243810</td>\n",
       "      <td>105.753092</td>\n",
       "      <td>106.644362</td>\n",
       "      <td>122.441152</td>\n",
       "      <td>106.847620</td>\n",
       "      <td>122.441152</td>\n",
       "    </tr>\n",
       "    <tr>\n",
       "      <th>2019-03-01</th>\n",
       "      <td>94.443137</td>\n",
       "      <td>95.509814</td>\n",
       "      <td>95.861112</td>\n",
       "      <td>82.291396</td>\n",
       "      <td>99.500124</td>\n",
       "      <td>91.239602</td>\n",
       "      <td>92.710651</td>\n",
       "      <td>92.902180</td>\n",
       "      <td>99.067140</td>\n",
       "      <td>92.902180</td>\n",
       "      <td>...</td>\n",
       "      <td>95.509814</td>\n",
       "      <td>97.437032</td>\n",
       "      <td>107.042489</td>\n",
       "      <td>94.443137</td>\n",
       "      <td>101.339904</td>\n",
       "      <td>94.443137</td>\n",
       "      <td>99.067140</td>\n",
       "      <td>89.638836</td>\n",
       "      <td>95.509814</td>\n",
       "      <td>89.638836</td>\n",
       "    </tr>\n",
       "    <tr>\n",
       "      <th>2019-04-01</th>\n",
       "      <td>76.253134</td>\n",
       "      <td>97.286312</td>\n",
       "      <td>87.881050</td>\n",
       "      <td>87.451839</td>\n",
       "      <td>99.444732</td>\n",
       "      <td>88.211775</td>\n",
       "      <td>93.022011</td>\n",
       "      <td>86.127524</td>\n",
       "      <td>101.086885</td>\n",
       "      <td>86.127524</td>\n",
       "      <td>...</td>\n",
       "      <td>97.286312</td>\n",
       "      <td>94.670571</td>\n",
       "      <td>84.138629</td>\n",
       "      <td>76.253134</td>\n",
       "      <td>96.089211</td>\n",
       "      <td>76.253134</td>\n",
       "      <td>101.086885</td>\n",
       "      <td>100.056552</td>\n",
       "      <td>97.286312</td>\n",
       "      <td>100.056552</td>\n",
       "    </tr>\n",
       "    <tr>\n",
       "      <th>2019-05-01</th>\n",
       "      <td>81.878191</td>\n",
       "      <td>98.086106</td>\n",
       "      <td>93.439869</td>\n",
       "      <td>97.918747</td>\n",
       "      <td>95.118095</td>\n",
       "      <td>93.156706</td>\n",
       "      <td>97.343117</td>\n",
       "      <td>86.687912</td>\n",
       "      <td>106.013460</td>\n",
       "      <td>86.687912</td>\n",
       "      <td>...</td>\n",
       "      <td>98.086106</td>\n",
       "      <td>105.166325</td>\n",
       "      <td>101.534096</td>\n",
       "      <td>81.878191</td>\n",
       "      <td>98.400371</td>\n",
       "      <td>81.878191</td>\n",
       "      <td>106.013460</td>\n",
       "      <td>99.314221</td>\n",
       "      <td>98.086106</td>\n",
       "      <td>99.314221</td>\n",
       "    </tr>\n",
       "    <tr>\n",
       "      <th>2019-06-01</th>\n",
       "      <td>101.707297</td>\n",
       "      <td>107.809215</td>\n",
       "      <td>107.581229</td>\n",
       "      <td>114.244526</td>\n",
       "      <td>111.073316</td>\n",
       "      <td>105.360964</td>\n",
       "      <td>115.641596</td>\n",
       "      <td>99.810427</td>\n",
       "      <td>97.579556</td>\n",
       "      <td>99.810427</td>\n",
       "      <td>...</td>\n",
       "      <td>107.809215</td>\n",
       "      <td>117.541391</td>\n",
       "      <td>108.132717</td>\n",
       "      <td>101.707297</td>\n",
       "      <td>111.554798</td>\n",
       "      <td>101.707297</td>\n",
       "      <td>97.579556</td>\n",
       "      <td>104.204187</td>\n",
       "      <td>107.809215</td>\n",
       "      <td>104.204187</td>\n",
       "    </tr>\n",
       "    <tr>\n",
       "      <th>2019-07-01</th>\n",
       "      <td>120.076666</td>\n",
       "      <td>120.291373</td>\n",
       "      <td>113.433707</td>\n",
       "      <td>113.868833</td>\n",
       "      <td>109.988973</td>\n",
       "      <td>121.304188</td>\n",
       "      <td>125.411881</td>\n",
       "      <td>110.156591</td>\n",
       "      <td>119.199296</td>\n",
       "      <td>110.156591</td>\n",
       "      <td>...</td>\n",
       "      <td>120.291373</td>\n",
       "      <td>106.740332</td>\n",
       "      <td>111.344225</td>\n",
       "      <td>120.076666</td>\n",
       "      <td>118.220099</td>\n",
       "      <td>120.076666</td>\n",
       "      <td>119.199296</td>\n",
       "      <td>110.195906</td>\n",
       "      <td>120.291373</td>\n",
       "      <td>110.195906</td>\n",
       "    </tr>\n",
       "    <tr>\n",
       "      <th>2019-08-01</th>\n",
       "      <td>117.341050</td>\n",
       "      <td>118.649231</td>\n",
       "      <td>116.282472</td>\n",
       "      <td>105.737185</td>\n",
       "      <td>114.851584</td>\n",
       "      <td>124.003545</td>\n",
       "      <td>107.140161</td>\n",
       "      <td>120.385659</td>\n",
       "      <td>117.603086</td>\n",
       "      <td>120.385659</td>\n",
       "      <td>...</td>\n",
       "      <td>118.649231</td>\n",
       "      <td>121.909184</td>\n",
       "      <td>109.994075</td>\n",
       "      <td>117.341050</td>\n",
       "      <td>119.018348</td>\n",
       "      <td>117.341050</td>\n",
       "      <td>117.603086</td>\n",
       "      <td>112.424007</td>\n",
       "      <td>118.649231</td>\n",
       "      <td>112.424007</td>\n",
       "    </tr>\n",
       "    <tr>\n",
       "      <th>2019-09-01</th>\n",
       "      <td>96.069571</td>\n",
       "      <td>108.361253</td>\n",
       "      <td>109.990625</td>\n",
       "      <td>95.035350</td>\n",
       "      <td>99.312777</td>\n",
       "      <td>95.211536</td>\n",
       "      <td>111.416552</td>\n",
       "      <td>112.676840</td>\n",
       "      <td>101.379085</td>\n",
       "      <td>112.676840</td>\n",
       "      <td>...</td>\n",
       "      <td>108.361253</td>\n",
       "      <td>107.316521</td>\n",
       "      <td>101.626650</td>\n",
       "      <td>96.069571</td>\n",
       "      <td>100.318744</td>\n",
       "      <td>96.069571</td>\n",
       "      <td>101.379085</td>\n",
       "      <td>105.403128</td>\n",
       "      <td>108.361253</td>\n",
       "      <td>105.403128</td>\n",
       "    </tr>\n",
       "    <tr>\n",
       "      <th>2019-10-01</th>\n",
       "      <td>80.783287</td>\n",
       "      <td>90.047299</td>\n",
       "      <td>97.229323</td>\n",
       "      <td>92.041553</td>\n",
       "      <td>93.872716</td>\n",
       "      <td>102.184998</td>\n",
       "      <td>96.966282</td>\n",
       "      <td>85.271926</td>\n",
       "      <td>88.506461</td>\n",
       "      <td>85.271926</td>\n",
       "      <td>...</td>\n",
       "      <td>90.047299</td>\n",
       "      <td>90.657278</td>\n",
       "      <td>95.182035</td>\n",
       "      <td>80.783287</td>\n",
       "      <td>97.344915</td>\n",
       "      <td>80.783287</td>\n",
       "      <td>88.506461</td>\n",
       "      <td>93.990637</td>\n",
       "      <td>90.047299</td>\n",
       "      <td>93.990637</td>\n",
       "    </tr>\n",
       "    <tr>\n",
       "      <th>2019-11-01</th>\n",
       "      <td>84.886843</td>\n",
       "      <td>96.563228</td>\n",
       "      <td>97.329005</td>\n",
       "      <td>107.533181</td>\n",
       "      <td>91.136346</td>\n",
       "      <td>96.671193</td>\n",
       "      <td>89.797935</td>\n",
       "      <td>103.029892</td>\n",
       "      <td>90.569875</td>\n",
       "      <td>103.029892</td>\n",
       "      <td>...</td>\n",
       "      <td>96.563228</td>\n",
       "      <td>87.464026</td>\n",
       "      <td>93.009505</td>\n",
       "      <td>84.886843</td>\n",
       "      <td>89.006210</td>\n",
       "      <td>84.886843</td>\n",
       "      <td>90.569875</td>\n",
       "      <td>94.315327</td>\n",
       "      <td>96.563228</td>\n",
       "      <td>94.315327</td>\n",
       "    </tr>\n",
       "    <tr>\n",
       "      <th>2019-12-01</th>\n",
       "      <td>114.920639</td>\n",
       "      <td>99.656894</td>\n",
       "      <td>101.506496</td>\n",
       "      <td>122.333310</td>\n",
       "      <td>103.567124</td>\n",
       "      <td>99.334522</td>\n",
       "      <td>98.872383</td>\n",
       "      <td>105.874679</td>\n",
       "      <td>106.774777</td>\n",
       "      <td>105.874679</td>\n",
       "      <td>...</td>\n",
       "      <td>99.656894</td>\n",
       "      <td>103.157543</td>\n",
       "      <td>104.766689</td>\n",
       "      <td>114.920639</td>\n",
       "      <td>102.957282</td>\n",
       "      <td>114.920639</td>\n",
       "      <td>106.774777</td>\n",
       "      <td>109.468172</td>\n",
       "      <td>99.656894</td>\n",
       "      <td>109.468172</td>\n",
       "    </tr>\n",
       "    <tr>\n",
       "      <th>2020-01-01</th>\n",
       "      <td>136.186959</td>\n",
       "      <td>118.063660</td>\n",
       "      <td>114.991629</td>\n",
       "      <td>103.177698</td>\n",
       "      <td>112.573468</td>\n",
       "      <td>123.071543</td>\n",
       "      <td>119.117609</td>\n",
       "      <td>107.863060</td>\n",
       "      <td>111.350171</td>\n",
       "      <td>107.863060</td>\n",
       "      <td>...</td>\n",
       "      <td>118.063660</td>\n",
       "      <td>109.844425</td>\n",
       "      <td>117.606716</td>\n",
       "      <td>136.186959</td>\n",
       "      <td>115.166985</td>\n",
       "      <td>136.186959</td>\n",
       "      <td>111.350171</td>\n",
       "      <td>113.468794</td>\n",
       "      <td>118.063660</td>\n",
       "      <td>113.468794</td>\n",
       "    </tr>\n",
       "  </tbody>\n",
       "</table>\n",
       "<p>13 rows × 100 columns</p>\n",
       "</div>"
      ],
      "text/plain": [
       "            pred_boot_0  pred_boot_1  pred_boot_2  pred_boot_3  pred_boot_4  \\\n",
       "2019-01-01   125.649400   111.475889   118.496485   104.085531   114.977111   \n",
       "2019-02-01   105.753092   106.847620   112.770249   108.959708   115.318066   \n",
       "2019-03-01    94.443137    95.509814    95.861112    82.291396    99.500124   \n",
       "2019-04-01    76.253134    97.286312    87.881050    87.451839    99.444732   \n",
       "2019-05-01    81.878191    98.086106    93.439869    97.918747    95.118095   \n",
       "2019-06-01   101.707297   107.809215   107.581229   114.244526   111.073316   \n",
       "2019-07-01   120.076666   120.291373   113.433707   113.868833   109.988973   \n",
       "2019-08-01   117.341050   118.649231   116.282472   105.737185   114.851584   \n",
       "2019-09-01    96.069571   108.361253   109.990625    95.035350    99.312777   \n",
       "2019-10-01    80.783287    90.047299    97.229323    92.041553    93.872716   \n",
       "2019-11-01    84.886843    96.563228    97.329005   107.533181    91.136346   \n",
       "2019-12-01   114.920639    99.656894   101.506496   122.333310   103.567124   \n",
       "2020-01-01   136.186959   118.063660   114.991629   103.177698   112.573468   \n",
       "\n",
       "            pred_boot_5  pred_boot_6  pred_boot_7  pred_boot_8  pred_boot_9  \\\n",
       "2019-01-01   107.480574   113.421392   103.324487   108.618393   103.324487   \n",
       "2019-02-01   111.530556   107.324090   105.778761   106.644362   105.778761   \n",
       "2019-03-01    91.239602    92.710651    92.902180    99.067140    92.902180   \n",
       "2019-04-01    88.211775    93.022011    86.127524   101.086885    86.127524   \n",
       "2019-05-01    93.156706    97.343117    86.687912   106.013460    86.687912   \n",
       "2019-06-01   105.360964   115.641596    99.810427    97.579556    99.810427   \n",
       "2019-07-01   121.304188   125.411881   110.156591   119.199296   110.156591   \n",
       "2019-08-01   124.003545   107.140161   120.385659   117.603086   120.385659   \n",
       "2019-09-01    95.211536   111.416552   112.676840   101.379085   112.676840   \n",
       "2019-10-01   102.184998    96.966282    85.271926    88.506461    85.271926   \n",
       "2019-11-01    96.671193    89.797935   103.029892    90.569875   103.029892   \n",
       "2019-12-01    99.334522    98.872383   105.874679   106.774777   105.874679   \n",
       "2020-01-01   123.071543   119.117609   107.863060   111.350171   107.863060   \n",
       "\n",
       "            ...  pred_boot_90  pred_boot_91  pred_boot_92  pred_boot_93  \\\n",
       "2019-01-01  ...    111.475889    111.197176    113.011322    125.649400   \n",
       "2019-02-01  ...    106.847620    103.918619    120.082762    105.753092   \n",
       "2019-03-01  ...     95.509814     97.437032    107.042489     94.443137   \n",
       "2019-04-01  ...     97.286312     94.670571     84.138629     76.253134   \n",
       "2019-05-01  ...     98.086106    105.166325    101.534096     81.878191   \n",
       "2019-06-01  ...    107.809215    117.541391    108.132717    101.707297   \n",
       "2019-07-01  ...    120.291373    106.740332    111.344225    120.076666   \n",
       "2019-08-01  ...    118.649231    121.909184    109.994075    117.341050   \n",
       "2019-09-01  ...    108.361253    107.316521    101.626650     96.069571   \n",
       "2019-10-01  ...     90.047299     90.657278     95.182035     80.783287   \n",
       "2019-11-01  ...     96.563228     87.464026     93.009505     84.886843   \n",
       "2019-12-01  ...     99.656894    103.157543    104.766689    114.920639   \n",
       "2020-01-01  ...    118.063660    109.844425    117.606716    136.186959   \n",
       "\n",
       "            pred_boot_94  pred_boot_95  pred_boot_96  pred_boot_97  \\\n",
       "2019-01-01    109.717660    125.649400    108.618393    122.500543   \n",
       "2019-02-01    109.243810    105.753092    106.644362    122.441152   \n",
       "2019-03-01    101.339904     94.443137     99.067140     89.638836   \n",
       "2019-04-01     96.089211     76.253134    101.086885    100.056552   \n",
       "2019-05-01     98.400371     81.878191    106.013460     99.314221   \n",
       "2019-06-01    111.554798    101.707297     97.579556    104.204187   \n",
       "2019-07-01    118.220099    120.076666    119.199296    110.195906   \n",
       "2019-08-01    119.018348    117.341050    117.603086    112.424007   \n",
       "2019-09-01    100.318744     96.069571    101.379085    105.403128   \n",
       "2019-10-01     97.344915     80.783287     88.506461     93.990637   \n",
       "2019-11-01     89.006210     84.886843     90.569875     94.315327   \n",
       "2019-12-01    102.957282    114.920639    106.774777    109.468172   \n",
       "2020-01-01    115.166985    136.186959    111.350171    113.468794   \n",
       "\n",
       "            pred_boot_98  pred_boot_99  \n",
       "2019-01-01    111.475889    122.500543  \n",
       "2019-02-01    106.847620    122.441152  \n",
       "2019-03-01     95.509814     89.638836  \n",
       "2019-04-01     97.286312    100.056552  \n",
       "2019-05-01     98.086106     99.314221  \n",
       "2019-06-01    107.809215    104.204187  \n",
       "2019-07-01    120.291373    110.195906  \n",
       "2019-08-01    118.649231    112.424007  \n",
       "2019-09-01    108.361253    105.403128  \n",
       "2019-10-01     90.047299     93.990637  \n",
       "2019-11-01     96.563228     94.315327  \n",
       "2019-12-01     99.656894    109.468172  \n",
       "2020-01-01    118.063660    113.468794  \n",
       "\n",
       "[13 rows x 100 columns]"
      ]
     },
     "execution_count": 25,
     "metadata": {},
     "output_type": "execute_result"
    }
   ],
   "source": [
    "bootstrap_predictions"
   ]
  },
  {
   "cell_type": "code",
   "execution_count": 26,
   "metadata": {},
   "outputs": [],
   "source": [
    "bootstrap_predictions.to_csv('bootstrap_predictions_ARIMA_1_0_13.csv')"
   ]
  },
  {
   "cell_type": "code",
   "execution_count": 27,
   "metadata": {},
   "outputs": [
    {
     "name": "stdout",
     "output_type": "stream",
     "text": [
      "CRPS Score: 4.681002496127946\n"
     ]
    }
   ],
   "source": [
    "import scoringrules as sr\n",
    "import numpy as np\n",
    "\n",
    "# Calculate CRPS for the bootstrap predictions\n",
    "def calculate_crps(observations, forecast_ensemble):\n",
    "    crps_values = []\n",
    "    for i in range(len(observations)):\n",
    "        obs = np.array([observations[i]])\n",
    "        fct = forecast_ensemble.iloc[i].values\n",
    "        crps = sr.crps_ensemble(obs, fct)\n",
    "        crps_values.append(crps)\n",
    "    return np.mean(crps_values)\n",
    "\n",
    "# Extract the observed values and the forecast ensemble\n",
    "observed_values = test['IPG2211A2N'].values\n",
    "forecast_ensemble = bootstrap_predictions.T\n",
    "\n",
    "# Calculate and print the CRPS\n",
    "crps_score = calculate_crps(observed_values, forecast_ensemble)\n",
    "print(f\"CRPS Score: {crps_score}\")\n"
   ]
  }
 ],
 "metadata": {
  "kernelspec": {
   "display_name": "myenv",
   "language": "python",
   "name": "python3"
  },
  "language_info": {
   "codemirror_mode": {
    "name": "ipython",
    "version": 3
   },
   "file_extension": ".py",
   "mimetype": "text/x-python",
   "name": "python",
   "nbconvert_exporter": "python",
   "pygments_lexer": "ipython3",
   "version": "3.10.12"
  }
 },
 "nbformat": 4,
 "nbformat_minor": 2
}
