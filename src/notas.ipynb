{
 "cells": [
  {
   "cell_type": "markdown",
   "metadata": {},
   "source": [
    "# Reuniones"
   ]
  },
  {
   "cell_type": "markdown",
   "metadata": {},
   "source": [
    "## Reunion 13/08"
   ]
  },
  {
   "cell_type": "markdown",
   "metadata": {},
   "source": [
    "- proponer \"algo novedoso\" o comparación, abordarlo desde otro ángulo.\n",
    "- Otras metodologías para predicción de prediccion probabilistica (al menos 3)\n",
    "    - Gans (Generative Adversarial Networks)\n",
    "        - Revision matematica\n",
    "    - Re muestreo\n",
    "    - Predicion conforme (regresion iid)\n",
    "\n",
    "- Metodología para el manejo de las predicciones\n",
    "- Variacion en las series de tiempo\n",
    "\n"
   ]
  },
  {
   "cell_type": "markdown",
   "metadata": {},
   "source": [
    "### Revisar\n",
    "\n",
    "- Gans\n",
    "- prediccion confrome\n",
    "- Tesis alemania"
   ]
  },
  {
   "cell_type": "markdown",
   "metadata": {},
   "source": [
    "# Preguntas"
   ]
  },
  {
   "cell_type": "markdown",
   "metadata": {},
   "source": [
    "Posibilidad de crear una libreria python sobre prediccion probabilistica "
   ]
  },
  {
   "cell_type": "markdown",
   "metadata": {},
   "source": [
    "# Notas"
   ]
  },
  {
   "cell_type": "markdown",
   "metadata": {},
   "source": [
    "## Tesis Alemania\n"
   ]
  },
  {
   "cell_type": "markdown",
   "metadata": {},
   "source": [
    "\n",
    "<span style=\"color:blue\"> Objective</span>: \"improvement of short-term forecasts\n",
    "of PM10 concentrations at German air quality measuring stations by using a probabilistic\n",
    "approach and comparing its results to existing point forecasts.\"\n",
    "\n",
    "- \"Similarly, in the air pollution\n",
    "literature, machine learning models become more prevalent than numerical weather predictions\n",
    "((NWPs) model transport and diffusion processes with understanding based\n",
    "on atmospheric dynamics theory)\n",
    "\n",
    "- \"there is little literature on probabilistic forecasting of particulate matter at this\n",
    "point.\"\n",
    "\n",
    "- <span style=\"color:red\"> *Preguntar* </span>: 3.2. Direct forecasting vs iterative forecasting. It is always preferable use direct approach?\n",
    "- <span style=\"color:red\"> *Preguntar* </span>: DMS? similar to iterative forecasting?\n",
    "- *direct multi-step forecasting (DMS)*\n",
    "- *Maximum likelihood estimator/estimate (MLE)*\n",
    "\n",
    "<span style=\"color:blue\">Definition of the problem</span>:\n",
    "\n",
    "Given some information $\\mathcal{F}_{s, t}$ at station s and time t, we try to estimate the generating distribution \n",
    "\n",
    "$$G(Y_{s, t+h} | \\mathcal{F}_{s, t})$$\n",
    "\n",
    "for h = 1, . . . , 24 at once.\n",
    "\n",
    "- \"Chevillon (2007). They argue that a DMS approach is asymptotically more efficient and is\n",
    "able to handle non-stationarity in the data\"\n",
    "- \"A second decision we made is to fit one global model instead of a single model for each\n",
    "station. Therefore properties of the stations like the population density and the location of\n",
    "the station are covariate features on which we train.\"\n",
    "\n",
    "1. <span style=\"color:blue\"> Calibration and sharpness to evaluate probabilistic forecasts </span>\n",
    "- 1. the goal of a forecast is to “maximise the sharpness of a the predictive\n",
    "distributions subject to calibration”Gneiting, Balabdaoui, and Raftery\n",
    "(2007)\n",
    "\n",
    "- 2. \"In this case, an\n",
    "unconditional MLE for the parameters of a lognormal distribution will be a well-calibrated\n",
    "forecast but with unnecessary uncertainty. The ideal forecast would predict the true deter-\n",
    "ministic values which would result in smaller (in this case collapsing) confidence intervals.\"\n",
    "\n",
    "\n",
    "2. <span style=\"color:blue\"> Proper scoring rules as a unified framework for forecast evaluation</span>\n",
    "- CRPS\n",
    "\n",
    "He will use weighted CRPS to evaluate the probabilistic forecasts, because it has two thresholds that are of particular interest are 36 and 50 µg/m3.\n",
    "\n",
    "\n",
    " <span style=\"color:blue\"> Probabilistic forecasting</span>\n",
    "\n",
    "### Notes on the Thesis Text\n",
    "\n",
    "1. **Probabilistic Forecasting in Meteorology**:\n",
    "   - Ensemble methods have long been a standard in meteorological forecasting, particularly for Numerical Weather Prediction (NWP).\n",
    "   - These methods generate multiple point forecasts with slightly perturbed initial conditions, which are then aggregated into a probabilistic forecast, offering insights into forecast variability.\n",
    "   - **EMOS (Ensemble Model Output Statistics)**, proposed by Gneiting et al. (2005), addresses calibration issues but comes with disadvantages:\n",
    "     - Computational expense due to the need for multiple predictions (typically between 5 and 50).\n",
    "     - Strong assumptions on the distribution family (e.g., assuming a normal distribution and modeling its parameters).\n",
    "     - Small sample size for predicting mean and variance, even with 50 forecasts.\n",
    "   - The primary advantage is the ability to improve forecasts probabilistically without complex statistical modeling by leveraging established NWP models.\n",
    "\n",
    "2. **Alternative Probabilistic Forecasting Methods**:\n",
    "   - **Quantile Forecasting**:\n",
    "     - Involves modeling individual quantiles (as shown by Fenske et al. (2013) and Meinshausen (2006)).\n",
    "     - Optimal for point forecasts concerning the pinball loss function (Gneiting, 2011b).\n",
    "     - Not inherently probabilistic and faces issues like non-crossing quantiles, where lower quantiles may exceed higher quantiles.\n",
    "   - **Parametric Statistical Methods**:\n",
    "     - **GAMLSS (Generalized Additive Models for Location, Shape, and Scale)**:\n",
    "       - Described by Stasinopoulos and Rigby (2007).\n",
    "       - Uses generalized additive models to predict parameters of a chosen distribution family, offering flexibility and explainability.\n",
    "       - Classical statistical methods have not been widely adopted in weather prediction due to difficulties in modeling complex interactions and relevant features explicitly.\n",
    "\n",
    "3. **Advances in Machine Learning**:\n",
    "   - Data-driven methods, particularly decision tree-based models, have become competitive in predictive performance.\n",
    "   - These models are better understood than neural networks but still offer strong predictive power.\n",
    "   - **XGBoost for Distributional Forecasting**:\n",
    "     - An extension proposed by März (2019) for distributional forecasting.\n",
    "     - Assumes a distribution family and predicts its parameters using trees fitted per parameter with negative log-likelihood as the loss function.\n",
    "     - Computationally efficient, leveraging implementations like XGBoost and PyTorch, and has performed well in forecasting competitions.\n",
    "   - **NGBoost (Natural Gradient Boosting)**:\n",
    "     - Proposed by Duan et al. (2020), it has been effective in competitions and research papers.\n",
    "   - **Probabilistic Gradient Boosting**:\n",
    "     - Proposed by Sprangers, Schelter, and Rijke (2021).\n",
    "     - Uses a stochastic tree ensemble approach where each leaf weight is a random variable.\n",
    "     - Advantage: Requires fitting only a single model for all parameters, enhancing computational efficiency.\n",
    "   - **Transformation Trees and Forests**:\n",
    "     - Proposed by Hothorn and Zeileis (2021), they allow flexible distribution modeling without assumptions about the distributional family.\n",
    "     - Theoretical foundation based on conditional transformation models (Hothorn, Kneib, and Bühlmann, 2013), but limited scalability due to full implementation in R.\n",
    "   - **NFBoost**:\n",
    "     - Combines and extends XGBoost and transformation models, using normalizing flows for modeling flexibility (März and Kneib, 2022).\n",
    "     - Discusses models developed and evaluated within the thesis."
   ]
  },
  {
   "cell_type": "code",
   "execution_count": null,
   "metadata": {
    "vscode": {
     "languageId": "plaintext"
    }
   },
   "outputs": [],
   "source": []
  },
  {
   "cell_type": "markdown",
   "metadata": {},
   "source": []
  }
 ],
 "metadata": {
  "language_info": {
   "name": "python"
  }
 },
 "nbformat": 4,
 "nbformat_minor": 2
}
