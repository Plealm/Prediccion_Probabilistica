{
 "cells": [
  {
   "cell_type": "markdown",
   "metadata": {},
   "source": [
    "# Reuniones"
   ]
  },
  {
   "cell_type": "markdown",
   "metadata": {},
   "source": [
    "## Reunion 13/08"
   ]
  },
  {
   "cell_type": "markdown",
   "metadata": {},
   "source": [
    "- proponer \"algo novedoso\" o comparación, abordarlo desde otro ángulo.\n",
    "- Otras metodologías para predicción de prediccion probabilistica (al menos 3)\n",
    "    - Gans (Generative Adversarial Networks)\n",
    "        - Revision matematica\n",
    "    - Re muestreo\n",
    "    - Predicion conforme (regresion iid)\n",
    "\n",
    "- Metodología para el manejo de las predicciones\n",
    "- Variacion en las series de tiempo\n",
    "\n"
   ]
  },
  {
   "cell_type": "markdown",
   "metadata": {},
   "source": [
    "### Revisar\n",
    "\n",
    "- Gans\n",
    "- prediccion confrome\n",
    "- Tesis alemania"
   ]
  },
  {
   "cell_type": "markdown",
   "metadata": {},
   "source": [
    "# Preguntas"
   ]
  },
  {
   "cell_type": "markdown",
   "metadata": {},
   "source": [
    "Posibilidad de crear una libreria python sobre prediccion probabilistica "
   ]
  },
  {
   "cell_type": "markdown",
   "metadata": {},
   "source": [
    "# Notas"
   ]
  },
  {
   "cell_type": "markdown",
   "metadata": {},
   "source": [
    "## Tesis Alemania\n"
   ]
  },
  {
   "cell_type": "markdown",
   "metadata": {},
   "source": [
    "\n",
    "<span style=\"color:blue\"> Objective</span>: \"improvement of short-term forecasts\n",
    "of PM10 concentrations at German air quality measuring stations by using a probabilistic\n",
    "approach and comparing its results to existing point forecasts.\"\n",
    "\n",
    "- \"Similarly, in the air pollution\n",
    "literature, machine learning models become more prevalent than numerical weather predictions\n",
    "((NWPs) model transport and diffusion processes with understanding based\n",
    "on atmospheric dynamics theory)\n",
    "\n",
    "- \"there is little literature on probabilistic forecasting of particulate matter at this\n",
    "point.\"\n",
    "\n",
    "- <span style=\"color:red\"> *Preguntar* </span>: 3.2. Direct forecasting vs iterative forecasting. It is always preferable use direct approach?\n",
    "- <span style=\"color:red\"> *Preguntar* </span>: DMS? similar to iterative forecasting?\n",
    "- *direct multi-step forecasting (DMS)*\n",
    "- *Maximum likelihood estimator/estimate (MLE)*\n",
    "\n",
    "<span style=\"color:blue\">Definition of the problem</span>:\n",
    "\n",
    "Given some information $\\mathcal{F}_{s, t}$ at station s and time t, we try to estimate the generating distribution \n",
    "\n",
    "$$G(Y_{s, t+h} | \\mathcal{F}_{s, t})$$\n",
    "\n",
    "for h = 1, . . . , 24 at once.\n",
    "\n",
    "- \"Chevillon (2007). They argue that a DMS approach is asymptotically more efficient and is\n",
    "able to handle non-stationarity in the data\"\n",
    "- \"A second decision we made is to fit one global model instead of a single model for each\n",
    "station. Therefore properties of the stations like the population density and the location of\n",
    "the station are covariate features on which we train.\"\n",
    "\n",
    "1. <span style=\"color:blue\"> Calibration and sharpness to evaluate probabilistic forecasts </span>\n",
    "- 1. the goal of a forecast is to “maximise the sharpness of a the predictive\n",
    "distributions subject to calibration”Gneiting, Balabdaoui, and Raftery\n",
    "(2007)\n",
    "\n",
    "- 2. \"In this case, an\n",
    "unconditional MLE for the parameters of a lognormal distribution will be a well-calibrated\n",
    "forecast but with unnecessary uncertainty. The ideal forecast would predict the true deter-\n",
    "ministic values which would result in smaller (in this case collapsing) confidence intervals.\"\n",
    "\n",
    "\n",
    "2. <span style=\"color:blue\"> Proper scoring rules as a unified framework for forecast evaluation</span>\n",
    "- CRPS\n",
    "\n",
    "He will use weighted CRPS to evaluate the probabilistic forecasts, because it has two thresholds that are of particular interest are 36 and 50 µg/m3.\n",
    "\n",
    "\n",
    " <span style=\"color:blue\"> Probabilistic forecasting</span>\n",
    "\n",
    "- \"EMOS (ensemble model output statistics)\n",
    "post-processing method to address calibration issues with this approach. Some disadvan-\n",
    "tages remain: Ensemble forecasting requires each prediction to be run multiple times, which\n",
    "is computationally expensive. Gneiting et al. (2005) suggest that a number between 5 and\n",
    "50 is often sensible.\"\n",
    "\n",
    "- \"generalised additive models for\n",
    "location, shape and scale (GAMLSS) as described in Stasinopoulos and Rigby (2007). These\n",
    "are probabilistic in nature: We chose a distribution family like a Normal distribution and then\n",
    "use generalised additive models to predict its parameters.\"\n",
    "\n",
    "- \"For this thesis we have decided to implement and compare the XGBoostLSS approach by März\n",
    "(2019), transformation forests (Hothorn and Zeileis, 2021) and NFBoost (März and Kneib, 2022) as three increasingly flexible tree-based methods for probabilistic forecasting. In this\n",
    "section we will discuss each of the models in detail.\""
   ]
  },
  {
   "cell_type": "markdown",
   "metadata": {
    "vscode": {
     "languageId": "plaintext"
    }
   },
   "source": [
    "## Conformal Prediction"
   ]
  },
  {
   "cell_type": "markdown",
   "metadata": {},
   "source": [
    "The basic goal of conformal prediction is as follows. Let $(X_i , Y_i) \\sim P$, $i = 1, \\dots, n$ be i.i.d. feature and response pairs, from a distribution $P$ on $X \\times Y$. For concreteness, we can think of the feature space as, say, $X = \\mathbb{R}^d$, and the response space as $Y = \\mathbb{R}$, though this need not be the case in general. Let $\\alpha \\in (0, 1)$ be a nominal error level. Then we want to find a prediction band,\n",
    "\n",
    "$$\n",
    "\\hat{C}_n : X \\to \\{\\text{subsets of } Y\\},\n",
    "$$\n",
    "\n",
    "with the property that for a new i.i.d. pair $(X_{n+1}, Y_{n+1}) \\sim P$,\n",
    "\n",
    "$$\n",
    "P\\left(Y_{n+1} \\in \\hat{C}_n(X_{n+1})\\right) \\geq 1 - \\alpha,\n",
    "$$\n",
    "\n",
    "**First key idea: use ranks to form adjusted quantiles.**\n",
    "\n",
    "As $Y_{n+1}$ is i.i.d. with $Y_1, \\dots, Y_n$, then the rank of $Y_{n+1}$ is uniformly distributed over the values $Y_1, \\dots, Y_{n+1}$.\n",
    "\n",
    "$$\n",
    "P\\left(Y_{n+1} \\text{ is among the } \\lceil (1 - \\alpha)(n + 1) \\rceil \\text{ smallest of } Y_1, \\dots, Y_{n+1} \\right) \\geq 1 - \\alpha,\n",
    "$$\n",
    "\n",
    "which is in turn equivalent to\n",
    "\n",
    "$$\n",
    "P\\left(Y_{n+1} \\text{ is among the } \\lceil (1 - \\alpha)(n + 1) \\rceil \\text{ smallest of } Y_1, \\dots, Y_n \\right) \\geq 1 - \\alpha.\n",
    "$$\n",
    "\n",
    "This means that the last step is critical: note that we have moved from a comparison between $Y_{n+1}$ and an order statistic of $Y_1, \\dots, Y_{n+1}$ in (4) to a comparison between $Y_{n+1}$ and an order statistic of $Y_1, \\dots, Y_n$ in (5). This is key, because what is on the right-hand side of the $\\leq$ sign in (5) is computable from just the first $n$ points.\n",
    "\n",
    "Accordingly, by defining\n",
    "\n",
    "$$\n",
    "\\hat{q}_n = \\lceil (1 - \\alpha)(n + 1) \\rceil \\text{ smallest of } Y_1, \\dots, Y_n,\n",
    "$$\n",
    "\n",
    "we have precisely achieved\n",
    "\n",
    "$$\n",
    "P(Y_{n+1} \\leq \\hat{q}_n) \\geq 1 - \\alpha.\n",
    "$$\n"
   ]
  },
  {
   "cell_type": "code",
   "execution_count": null,
   "metadata": {
    "vscode": {
     "languageId": "plaintext"
    }
   },
   "outputs": [],
   "source": []
  },
  {
   "cell_type": "code",
   "execution_count": null,
   "metadata": {
    "vscode": {
     "languageId": "plaintext"
    }
   },
   "outputs": [],
   "source": []
  }
 ],
 "metadata": {
  "language_info": {
   "name": "python"
  }
 },
 "nbformat": 4,
 "nbformat_minor": 2
}
