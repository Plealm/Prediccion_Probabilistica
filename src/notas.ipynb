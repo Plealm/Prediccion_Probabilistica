{
 "cells": [
  {
   "cell_type": "markdown",
   "metadata": {},
   "source": [
    "# Reuniones"
   ]
  },
  {
   "cell_type": "markdown",
   "metadata": {},
   "source": [
    "## Reunion 13/08"
   ]
  },
  {
   "cell_type": "markdown",
   "metadata": {},
   "source": [
    "- proponer \"algo novedoso\" o comparación, abordarlo desde otro ángulo.\n",
    "- Otras metodologías para predicción de prediccion probabilistica (al menos 3)\n",
    "    - Gans (Generative Adversarial Networks)\n",
    "        - Revision matematica\n",
    "    - Re muestreo\n",
    "    - Predicion conforme (regresion iid)\n",
    "\n",
    "- Metodología para el manejo de las predicciones\n",
    "- Variacion en las series de tiempo\n",
    "\n"
   ]
  },
  {
   "cell_type": "markdown",
   "metadata": {},
   "source": [
    "### Revisar\n",
    "\n",
    "- Gans\n",
    "- prediccion confrome\n",
    "- Tesis alemania"
   ]
  },
  {
   "cell_type": "markdown",
   "metadata": {},
   "source": [
    "# Preguntas"
   ]
  },
  {
   "cell_type": "markdown",
   "metadata": {},
   "source": [
    "Posibilidad de crear una libreria python sobre prediccion probabilistica "
   ]
  },
  {
   "cell_type": "markdown",
   "metadata": {},
   "source": [
    "# Notas"
   ]
  },
  {
   "cell_type": "markdown",
   "metadata": {},
   "source": [
    "## Tesis Alemania\n",
    "\n",
    "<span style=\"color:blue\"> Objective</span>: \"improvement of short-term forecasts\n",
    "of PM10 concentrations at German air quality measuring stations by using a probabilistic\n",
    "approach and comparing its results to existing point forecasts.\"\n",
    "\n",
    "- \"Similarly, in the air pollution\n",
    "literature, machine learning models become more prevalent than numerical weather predictions\n",
    "((NWPs) model transport and diffusion processes with understanding based\n",
    "on atmospheric dynamics theory)\n",
    "\n",
    "- \"there is little literature on probabilistic forecasting of particulate matter at this\n",
    "point.\"\n",
    "\n",
    "- <span style=\"color:red\"> *Preguntar* </span>: 3.2. Direct forecasting vs iterative forecasting. It is always preferable use direct approach?\n",
    "- <span style=\"color:red\"> *Preguntar* </span>: DMS? similar to iterative forecasting?\n",
    "- *direct multi-step forecasting (DMS)*\n",
    "- *Maximum likelihood estimator/estimate (MLE)*\n",
    "\n",
    "<span style=\"color:blue\">Definition of the problem</span>:\n",
    "\n",
    "Given some information $\\mathcal{F}_{s, t}$ at station s and time t, we try to estimate the generating distribution \n",
    "\n",
    "$$G(Y_{s, t+h} | \\mathcal{F}_{s, t})$$\n",
    "\n",
    "for h = 1, . . . , 24 at once.\n",
    "\n",
    "- \"Chevillon (2007). They argue that a DMS approach is asymptotically more efficient and is\n",
    "able to handle non-stationarity in the data\"\n",
    "- \"A second decision we made is to fit one global model instead of a single model for each\n",
    "station. Therefore properties of the stations like the population density and the location of\n",
    "the station are covariate features on which we train.\"\n",
    "\n",
    "1. <span style=\"color:blue\"> Calibration and sharpness to evaluate probabilistic forecasts </span>\n",
    "- 1. the goal of a forecast is to “maximise the sharpness of a the predictive\n",
    "distributions subject to calibration”Gneiting, Balabdaoui, and Raftery\n",
    "(2007)\n",
    "\n",
    "- 2. \"In this case, an\n",
    "unconditional MLE for the parameters of a lognormal distribution will be a well-calibrated\n",
    "forecast but with unnecessary uncertainty. The ideal forecast would predict the true deter-\n",
    "ministic values which would result in smaller (in this case collapsing) confidence intervals.\"\n",
    "\n",
    "\n",
    "2. <span style=\"color:blue\"> Proper scoring rules as a unified framework for forecast evaluation</span>\n",
    "\n"
   ]
  },
  {
   "cell_type": "code",
   "execution_count": null,
   "metadata": {
    "vscode": {
     "languageId": "plaintext"
    }
   },
   "outputs": [],
   "source": []
  },
  {
   "cell_type": "markdown",
   "metadata": {},
   "source": []
  }
 ],
 "metadata": {
  "language_info": {
   "name": "python"
  }
 },
 "nbformat": 4,
 "nbformat_minor": 2
}
